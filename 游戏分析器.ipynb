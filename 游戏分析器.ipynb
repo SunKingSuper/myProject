{
 "cells": [
  {
   "cell_type": "markdown",
   "metadata": {},
   "source": [
    "# 自走棋 "
   ]
  },
  {
   "cell_type": "code",
   "execution_count": 4,
   "metadata": {
    "ExecuteTime": {
     "end_time": "2019-01-26T10:04:40.386774Z",
     "start_time": "2019-01-26T10:04:40.344353Z"
    }
   },
   "outputs": [],
   "source": [
    "# 数据\n",
    "import pandas as pd\n",
    "ethnic = pd.read_csv(\"chess_ethnic.csv\")\n",
    "profession = pd.read_csv(\"chess_profession.csv\")\n",
    "hero = pd.read_csv(\"chess_hero.csv\")\n",
    "\n",
    "degree = {\n",
    "    1: [100, 0, 0, 0, 0],\n",
    "    2: [70, 30, 0, 0, 0],\n",
    "    3: [60, 35, 5, 0, 0],\n",
    "    4: [50, 35, 15, 0, 0],\n",
    "    5: [40, 35, 23, 2, 0],\n",
    "    6: [30, 30, 30, 10, 0],\n",
    "    7: [24, 40, 40, 15, 1],\n",
    "    8: [22, 30, 25, 20, 3],\n",
    "    9: [22, 30, 25, 20, 3],\n",
    "    10: [19, 25, 25, 25, 6],\n",
    "}"
   ]
  },
  {
   "cell_type": "code",
   "execution_count": 6,
   "metadata": {
    "ExecuteTime": {
     "end_time": "2019-01-26T10:05:20.130426Z",
     "start_time": "2019-01-26T10:05:20.117346Z"
    }
   },
   "outputs": [
    {
     "name": "stdout",
     "output_type": "stream",
     "text": [
      "{1: [100, 0, 0, 0, 0], 2: [70, 30, 0, 0, 0], 3: [60, 35, 5, 0, 0], 4: [50, 35, 15, 0, 0], 5: [40, 35, 23, 2, 0], 6: [30, 30, 30, 10, 0], 7: [24, 40, 40, 15, 1], 8: [22, 30, 25, 20, 3], 9: [22, 30, 25, 20, 3], 10: [19, 25, 25, 25, 6]}\n"
     ]
    }
   ],
   "source": []
  }
 ],
 "metadata": {
  "kernelspec": {
   "display_name": "Python 3",
   "language": "python",
   "name": "python3"
  },
  "language_info": {
   "codemirror_mode": {
    "name": "ipython",
    "version": 3
   },
   "file_extension": ".py",
   "mimetype": "text/x-python",
   "name": "python",
   "nbconvert_exporter": "python",
   "pygments_lexer": "ipython3",
   "version": "3.6.6"
  },
  "latex_envs": {
   "LaTeX_envs_menu_present": true,
   "autoclose": false,
   "autocomplete": true,
   "bibliofile": "biblio.bib",
   "cite_by": "apalike",
   "current_citInitial": 1,
   "eqLabelWithNumbers": true,
   "eqNumInitial": 1,
   "hotkeys": {
    "equation": "Ctrl-E",
    "itemize": "Ctrl-I"
   },
   "labels_anchors": false,
   "latex_user_defs": false,
   "report_style_numbering": false,
   "user_envs_cfg": false
  },
  "toc": {
   "base_numbering": 1,
   "nav_menu": {},
   "number_sections": true,
   "sideBar": true,
   "skip_h1_title": false,
   "title_cell": "Table of Contents",
   "title_sidebar": "Contents",
   "toc_cell": false,
   "toc_position": {},
   "toc_section_display": true,
   "toc_window_display": false
  },
  "varInspector": {
   "cols": {
    "lenName": 16,
    "lenType": 16,
    "lenVar": 40
   },
   "kernels_config": {
    "python": {
     "delete_cmd_postfix": "",
     "delete_cmd_prefix": "del ",
     "library": "var_list.py",
     "varRefreshCmd": "print(var_dic_list())"
    },
    "r": {
     "delete_cmd_postfix": ") ",
     "delete_cmd_prefix": "rm(",
     "library": "var_list.r",
     "varRefreshCmd": "cat(var_dic_list()) "
    }
   },
   "types_to_exclude": [
    "module",
    "function",
    "builtin_function_or_method",
    "instance",
    "_Feature"
   ],
   "window_display": false
  }
 },
 "nbformat": 4,
 "nbformat_minor": 2
}
