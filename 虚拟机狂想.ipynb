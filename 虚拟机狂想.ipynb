{
 "cells": [
  {
   "cell_type": "markdown",
   "metadata": {
    "ExecuteTime": {
     "end_time": "2019-01-07T22:43:19.850147Z",
     "start_time": "2019-01-07T22:43:19.834658Z"
    }
   },
   "source": [
    "# 该代码是为了描绘心中的虚拟机原理\n",
    "\n",
    "author: SKS  \n",
    "e-mail: sksisnotsks@gmail.com\n",
    "\n",
    "> 希望大家可以帮帮我写一份大家易于理解操作系统原理的代码吧"
   ]
  },
  {
   "cell_type": "markdown",
   "metadata": {
    "ExecuteTime": {
     "end_time": "2019-01-07T22:47:26.660434Z",
     "start_time": "2019-01-07T22:47:26.648879Z"
    }
   },
   "source": [
    "## 硬件设置\n",
    "\n",
    "任何软件都离不开硬件的执行，所以操作系统都会对硬件层进行一定程度的抽象，以便于操作系统的多平台适用性以及支持各式各样的驱动设备。因此我们也应该要给用到的设备下定义。"
   ]
  },
  {
   "cell_type": "markdown",
   "metadata": {},
   "source": [
    "### 基本结构\n",
    "计算机的最基本硬件结构要有CPU，内存和硬盘（硬盘也不是必须的，但是操作系统需要从硬盘引导入内存运行，后面为了直观看到计算机运行情况，我会加上一个monitor来观察）"
   ]
  },
  {
   "cell_type": "code",
   "execution_count": null,
   "metadata": {},
   "outputs": [],
   "source": [
    "class Computer:\n",
    "    def __init__(self, motherboard = Motherboard(), cpu = Cpu(), memory, harddisk, **kwargs):\n",
    "        self.motherboard = motherboard\n",
    "        kwargs.get\n",
    "        self.motherboard.setComponent(kwargs)\n",
    "        for (key,value) in \n",
    "        kwargs.items():\n",
    "            self.motherboard.setComponent(key,value)\n",
    "    def run(self):\n",
    "        if self.motherboard:\n",
    "            self.motherboard.run()\n",
    "            \n",
    "if __main__ == \"__name__\":\n",
    "    computer = Computer()\n",
    "    computer.run()"
   ]
  },
  {
   "cell_type": "markdown",
   "metadata": {},
   "source": [
    "### 主板\n",
    "要是为了仅仅演示虚拟机，其实没必要用到主板，只是我个人目标是贴切现实存在的计算机，于是使用主板将各组件合在一起.\n",
    "\n",
    "> 主板的核心作用就是提供了连接各组件的管道和BIOS（和电源）\n",
    "\n",
    "`BIOS`一开始是写死在主板上的，它负责整个计算机系统的启动和维护，操作系统启动后便退出`BIOS`"
   ]
  },
  {
   "cell_type": "code",
   "execution_count": 3,
   "metadata": {
    "ExecuteTime": {
     "end_time": "2019-01-12T23:20:54.167617Z",
     "start_time": "2019-01-12T23:20:54.158703Z"
    }
   },
   "outputs": [],
   "source": [
    "class Motherboard:\n",
    "    def __init__(self):\n",
    "        self.setup('bios', BIOS())\n",
    "        pass\n",
    "    def setComponent(self, componentDict):\n",
    "        for (componentName, component) in kwargs.items():\n",
    "            self.setup(componentName, component)\n",
    "    def setup(self, componentName, component):\n",
    "        pass\n",
    "    def run():\n",
    "        pass\n",
    "    "
   ]
  },
  {
   "cell_type": "markdown",
   "metadata": {},
   "source": [
    "### CPU"
   ]
  },
  {
   "cell_type": "markdown",
   "metadata": {},
   "source": [
    "接下来就是要写好CPU的定义，作为计算机的核心部分,我们不仅要让它有计算功能，还要定义自己的指令集来调用我们的代码。\n",
    "\n",
    "为了简便，CPU直接用`eval（）`来运行python代码,这样就无需从头构建汇编函数了，，由于有指令集的缘故，算是指定了python原语，我们只能通过这些原语来进行重新编程了，我会以汇编语言作参考设定指令集。"
   ]
  },
  {
   "cell_type": "code",
   "execution_count": null,
   "metadata": {},
   "outputs": [],
   "source": [
    "class CPU:\n",
    "    # 寄存器\n",
    "    DR = 0\n",
    "    IR = 0\n",
    "    PC = 0\n",
    "    AR = 0\n",
    "    AC = 0\n",
    "    PSW = 0\n",
    "    def __init__(self):\n",
    "        self.globals = {\n",
    "            \n",
    "        }\n",
    "        pass\n",
    "    def run(mainboard):\n",
    "        #order = mainboard.pipe('CPU', AR)\n",
    "        #eval(order, self.globals)\n",
    "        pass"
   ]
  },
  {
   "cell_type": "markdown",
   "metadata": {},
   "source": [
    "指令集的设计"
   ]
  },
  {
   "cell_type": "code",
   "execution_count": null,
   "metadata": {},
   "outputs": [],
   "source": [
    "class order_dist:\n",
    "    def push_stack():\n",
    "        return 'a';"
   ]
  },
  {
   "cell_type": "code",
   "execution_count": 18,
   "metadata": {
    "ExecuteTime": {
     "end_time": "2019-01-12T23:42:47.075450Z",
     "start_time": "2019-01-12T23:42:47.056894Z"
    }
   },
   "outputs": [
    {
     "name": "stdout",
     "output_type": "stream",
     "text": [
      "Help on built-in function eval in module builtins:\n",
      "\n",
      "eval(source, globals=None, locals=None, /)\n",
      "    Evaluate the given source in the context of globals and locals.\n",
      "    \n",
      "    The source may be a string representing a Python expression\n",
      "    or a code object as returned by compile().\n",
      "    The globals must be a dictionary and locals can be any mapping,\n",
      "    defaulting to the current globals and locals.\n",
      "    If only globals is given, locals defaults to it.\n",
      "\n",
      "0\n"
     ]
    }
   ],
   "source": [
    "# test distinct\n",
    "help(eval)\n",
    "class A:\n",
    "    n1 = 0\n",
    "    n2 = 0\n",
    "    def run(self, order):\n",
    "        b1 = 0\n",
    "        b2 = 0\n",
    "        eval(order, {\"n1\":self.n1})\n",
    "        \n",
    "a = A()\n",
    "a.run(\"print(n1)\")"
   ]
  },
  {
   "cell_type": "markdown",
   "metadata": {},
   "source": [
    "**项目进度**\n",
    "\n",
    "![总体架构图](structure.png)"
   ]
  }
 ],
 "metadata": {
  "kernelspec": {
   "display_name": "Python 3",
   "language": "python",
   "name": "python3"
  },
  "language_info": {
   "codemirror_mode": {
    "name": "ipython",
    "version": 3
   },
   "file_extension": ".py",
   "mimetype": "text/x-python",
   "name": "python",
   "nbconvert_exporter": "python",
   "pygments_lexer": "ipython3",
   "version": "3.6.6"
  },
  "latex_envs": {
   "LaTeX_envs_menu_present": true,
   "autoclose": false,
   "autocomplete": true,
   "bibliofile": "biblio.bib",
   "cite_by": "apalike",
   "current_citInitial": 1,
   "eqLabelWithNumbers": true,
   "eqNumInitial": 1,
   "hotkeys": {
    "equation": "Ctrl-E",
    "itemize": "Ctrl-I"
   },
   "labels_anchors": false,
   "latex_user_defs": false,
   "report_style_numbering": false,
   "user_envs_cfg": false
  },
  "toc": {
   "base_numbering": 1,
   "nav_menu": {},
   "number_sections": true,
   "sideBar": true,
   "skip_h1_title": false,
   "title_cell": "Table of Contents",
   "title_sidebar": "Contents",
   "toc_cell": false,
   "toc_position": {},
   "toc_section_display": true,
   "toc_window_display": true
  },
  "varInspector": {
   "cols": {
    "lenName": 16,
    "lenType": 16,
    "lenVar": 40
   },
   "kernels_config": {
    "python": {
     "delete_cmd_postfix": "",
     "delete_cmd_prefix": "del ",
     "library": "var_list.py",
     "varRefreshCmd": "print(var_dic_list())"
    },
    "r": {
     "delete_cmd_postfix": ") ",
     "delete_cmd_prefix": "rm(",
     "library": "var_list.r",
     "varRefreshCmd": "cat(var_dic_list()) "
    }
   },
   "types_to_exclude": [
    "module",
    "function",
    "builtin_function_or_method",
    "instance",
    "_Feature"
   ],
   "window_display": false
  }
 },
 "nbformat": 4,
 "nbformat_minor": 2
}
